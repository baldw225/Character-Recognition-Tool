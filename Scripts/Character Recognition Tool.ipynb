{
  "nbformat": 4,
  "nbformat_minor": 0,
  "metadata": {
    "accelerator": "GPU",
    "colab": {
      "name": "CRT.ipynb",
      "provenance": [],
      "collapsed_sections": [],
      "toc_visible": true
    },
    "kernelspec": {
      "display_name": "Python 3",
      "name": "python3"
    },
    "widgets": {
      "application/vnd.jupyter.widget-state+json": {
        "55ef088daa4c4786bad4234d3bc73dd4": {
          "model_module": "@jupyter-widgets/controls",
          "model_name": "HBoxModel",
          "state": {
            "_view_name": "HBoxView",
            "_dom_classes": [],
            "_model_name": "HBoxModel",
            "_view_module": "@jupyter-widgets/controls",
            "_model_module_version": "1.5.0",
            "_view_count": null,
            "_view_module_version": "1.5.0",
            "box_style": "",
            "layout": "IPY_MODEL_c42e5ed001684525903044ed168e76e2",
            "_model_module": "@jupyter-widgets/controls",
            "children": [
              "IPY_MODEL_2b19c82d2320475d923f87a80a767f01",
              "IPY_MODEL_721799f363354e8caaa0676a979f8de2"
            ]
          }
        },
        "c42e5ed001684525903044ed168e76e2": {
          "model_module": "@jupyter-widgets/base",
          "model_name": "LayoutModel",
          "state": {
            "_view_name": "LayoutView",
            "grid_template_rows": null,
            "right": null,
            "justify_content": null,
            "_view_module": "@jupyter-widgets/base",
            "overflow": null,
            "_model_module_version": "1.2.0",
            "_view_count": null,
            "flex_flow": null,
            "width": null,
            "min_width": null,
            "border": null,
            "align_items": null,
            "bottom": null,
            "_model_module": "@jupyter-widgets/base",
            "top": null,
            "grid_column": null,
            "overflow_y": null,
            "overflow_x": null,
            "grid_auto_flow": null,
            "grid_area": null,
            "grid_template_columns": null,
            "flex": null,
            "_model_name": "LayoutModel",
            "justify_items": null,
            "grid_row": null,
            "max_height": null,
            "align_content": null,
            "visibility": null,
            "align_self": null,
            "height": null,
            "min_height": null,
            "padding": null,
            "grid_auto_rows": null,
            "grid_gap": null,
            "max_width": null,
            "order": null,
            "_view_module_version": "1.2.0",
            "grid_template_areas": null,
            "object_position": null,
            "object_fit": null,
            "grid_auto_columns": null,
            "margin": null,
            "display": null,
            "left": null
          }
        },
        "2b19c82d2320475d923f87a80a767f01": {
          "model_module": "@jupyter-widgets/controls",
          "model_name": "FloatProgressModel",
          "state": {
            "_view_name": "ProgressView",
            "style": "IPY_MODEL_f615b656d5474be986a747dd89ddd8b5",
            "_dom_classes": [],
            "description": "100%",
            "_model_name": "FloatProgressModel",
            "bar_style": "success",
            "max": 34,
            "_view_module": "@jupyter-widgets/controls",
            "_model_module_version": "1.5.0",
            "value": 34,
            "_view_count": null,
            "_view_module_version": "1.5.0",
            "orientation": "horizontal",
            "min": 0,
            "description_tooltip": null,
            "_model_module": "@jupyter-widgets/controls",
            "layout": "IPY_MODEL_9f3481a18be04c9a93126e7345ecc959"
          }
        },
        "721799f363354e8caaa0676a979f8de2": {
          "model_module": "@jupyter-widgets/controls",
          "model_name": "HTMLModel",
          "state": {
            "_view_name": "HTMLView",
            "style": "IPY_MODEL_1ac0c51359844f209fd946e4dbcadffe",
            "_dom_classes": [],
            "description": "",
            "_model_name": "HTMLModel",
            "placeholder": "​",
            "_view_module": "@jupyter-widgets/controls",
            "_model_module_version": "1.5.0",
            "value": " 34/34 [01:14&lt;00:00,  2.20s/it]",
            "_view_count": null,
            "_view_module_version": "1.5.0",
            "description_tooltip": null,
            "_model_module": "@jupyter-widgets/controls",
            "layout": "IPY_MODEL_f597f8fcce9e49979edabf44a9b76eb0"
          }
        },
        "f615b656d5474be986a747dd89ddd8b5": {
          "model_module": "@jupyter-widgets/controls",
          "model_name": "ProgressStyleModel",
          "state": {
            "_view_name": "StyleView",
            "_model_name": "ProgressStyleModel",
            "description_width": "initial",
            "_view_module": "@jupyter-widgets/base",
            "_model_module_version": "1.5.0",
            "_view_count": null,
            "_view_module_version": "1.2.0",
            "bar_color": null,
            "_model_module": "@jupyter-widgets/controls"
          }
        },
        "9f3481a18be04c9a93126e7345ecc959": {
          "model_module": "@jupyter-widgets/base",
          "model_name": "LayoutModel",
          "state": {
            "_view_name": "LayoutView",
            "grid_template_rows": null,
            "right": null,
            "justify_content": null,
            "_view_module": "@jupyter-widgets/base",
            "overflow": null,
            "_model_module_version": "1.2.0",
            "_view_count": null,
            "flex_flow": null,
            "width": null,
            "min_width": null,
            "border": null,
            "align_items": null,
            "bottom": null,
            "_model_module": "@jupyter-widgets/base",
            "top": null,
            "grid_column": null,
            "overflow_y": null,
            "overflow_x": null,
            "grid_auto_flow": null,
            "grid_area": null,
            "grid_template_columns": null,
            "flex": null,
            "_model_name": "LayoutModel",
            "justify_items": null,
            "grid_row": null,
            "max_height": null,
            "align_content": null,
            "visibility": null,
            "align_self": null,
            "height": null,
            "min_height": null,
            "padding": null,
            "grid_auto_rows": null,
            "grid_gap": null,
            "max_width": null,
            "order": null,
            "_view_module_version": "1.2.0",
            "grid_template_areas": null,
            "object_position": null,
            "object_fit": null,
            "grid_auto_columns": null,
            "margin": null,
            "display": null,
            "left": null
          }
        },
        "1ac0c51359844f209fd946e4dbcadffe": {
          "model_module": "@jupyter-widgets/controls",
          "model_name": "DescriptionStyleModel",
          "state": {
            "_view_name": "StyleView",
            "_model_name": "DescriptionStyleModel",
            "description_width": "",
            "_view_module": "@jupyter-widgets/base",
            "_model_module_version": "1.5.0",
            "_view_count": null,
            "_view_module_version": "1.2.0",
            "_model_module": "@jupyter-widgets/controls"
          }
        },
        "f597f8fcce9e49979edabf44a9b76eb0": {
          "model_module": "@jupyter-widgets/base",
          "model_name": "LayoutModel",
          "state": {
            "_view_name": "LayoutView",
            "grid_template_rows": null,
            "right": null,
            "justify_content": null,
            "_view_module": "@jupyter-widgets/base",
            "overflow": null,
            "_model_module_version": "1.2.0",
            "_view_count": null,
            "flex_flow": null,
            "width": null,
            "min_width": null,
            "border": null,
            "align_items": null,
            "bottom": null,
            "_model_module": "@jupyter-widgets/base",
            "top": null,
            "grid_column": null,
            "overflow_y": null,
            "overflow_x": null,
            "grid_auto_flow": null,
            "grid_area": null,
            "grid_template_columns": null,
            "flex": null,
            "_model_name": "LayoutModel",
            "justify_items": null,
            "grid_row": null,
            "max_height": null,
            "align_content": null,
            "visibility": null,
            "align_self": null,
            "height": null,
            "min_height": null,
            "padding": null,
            "grid_auto_rows": null,
            "grid_gap": null,
            "max_width": null,
            "order": null,
            "_view_module_version": "1.2.0",
            "grid_template_areas": null,
            "object_position": null,
            "object_fit": null,
            "grid_auto_columns": null,
            "margin": null,
            "display": null,
            "left": null
          }
        }
      }
    }
  },
  "cells": [
    {
      "cell_type": "markdown",
      "metadata": {
        "id": "jGmE4Afw_BMR"
      },
      "source": [
        "# A Character Recognition Tool\n"
      ]
    },
    {
      "cell_type": "markdown",
      "metadata": {
        "id": "RHkzGdRK_K0N"
      },
      "source": [
        "This notebook will show you how to perform character recognition in visual media using a YouTube clip from Parks and Recreation as an example. \n"
      ]
    },
    {
      "cell_type": "markdown",
      "metadata": {
        "id": "Gft1TRYl_jP1"
      },
      "source": [
        "# Part I - Setup Prerequisites\n",
        "------------------------------\n",
        "\n",
        "Installing necessary libraries \n",
        "(you can exectute all subsections or unfold them and walk through on a cell by cell basis)\n",
        "\n",
        "**Installation of these libraries were tested in Google Colab**"
      ]
    },
    {
      "cell_type": "code",
      "metadata": {
        "id": "s-lN0lI1RrJ7"
      },
      "source": [
        "%%capture\n",
        "!pip install seaborn==0.11.1\n",
        "!pip install tqdm\n",
        "!pip install scikit-learn==0.22.2.post1\n",
        "!pip install matplotlib==3.2.2\n",
        "!pip install scipy==1.4.1\n",
        "!pip install pliers==0.4.0\n",
        "!pip install face_recognition==1.3.0\n",
        "!sudo apt-get install ffmpeg\n",
        "!sudo apt-get install python3-magic\n",
        "!pip install python-magic==0.4.18\n",
        "!pip install youtube-dl==2021.2.10"
      ],
      "execution_count": null,
      "outputs": []
    },
    {
      "cell_type": "code",
      "metadata": {
        "id": "EXb-m-A2SI1j"
      },
      "source": [
        "import sys, PIL, os\n",
        "import numpy as np\n",
        "import pandas as pd \n",
        "import face_recognition\n",
        "import urllib.request\n",
        "import matplotlib.pyplot as plt\n",
        "import matplotlib.patches as patches\n",
        "from tqdm import notebook\n",
        "from pliers.filters import FrameSamplingFilter\n",
        "from PIL import Image\n",
        "\n",
        "%matplotlib inline"
      ],
      "execution_count": null,
      "outputs": []
    },
    {
      "cell_type": "markdown",
      "metadata": {
        "id": "KXwDV22cD5hF"
      },
      "source": [
        "# Part II - Provide Input Info\n",
        "------------------------------\n",
        "\n",
        "STEP 1: Name your project\n",
        "*   Create a name for your project\n",
        "*   In this example '''CRT_ParksAndRecreation''' is the project name\n",
        "\n",
        "STEP 2: Save your Video into input_video folder\n",
        "*   Here we downloaded a clip from Parks and Recreation from YouTube, named it sample_video, and directly saved it into the folder\n",
        "\n",
        "STEP 3: Save your Face Templates into the character_image folder\n",
        "*   Here we dowloaded images of Amy Poehler and Aziz Ansari (the actors for Leslie Knope and Tom Haverford) from IMDb.com and labeled them 01_LESLIE and 02_TOM\n",
        "\n"
      ]
    },
    {
      "cell_type": "code",
      "metadata": {
        "colab": {
          "base_uri": "https://localhost:8080/"
        },
        "id": "ULF2ciIND7u-",
        "outputId": "efe0407d-39d0-4c2b-ca1f-5588ae78a479"
      },
      "source": [
        "project_name = \"CRT_ParksAndRecreation\"\n",
        "\n",
        "os.mkdir(project_name)\n",
        "os.chdir(project_name)\n",
        "os.mkdir('input_video')\n",
        "\n",
        "# Enter youtube URL\n",
        "!youtube-dl https://www.youtube.com/watch?v=OI4p9FSDxy0 --format mp4 --output './input_video/sample_video.mp4'\n",
        "\n",
        "\n",
        "# Enter character name and provide the link to a sample image (.jpg format/ending)\n",
        "characters = { \n",
        "               '01_LESLIE'   :'https://m.media-amazon.com/images/M/MV5BYjIzMDA0NmUtMTlhZi00ZDU3LTkzYWMtZDhkYTU1ZDJlMGRkXkEyXkFqcGdeQXVyNzcwODE0OTk@._V1_UY317_CR32,0,214,317_AL_.jpg',                 \n",
        "               '02_TOM'      :'https://m.media-amazon.com/images/M/MV5BMjE5NzYwNDQwN15BMl5BanBnXkFtZTgwNDA2NjQwODE@._V1_UX214_CR0,0,214,317_AL_.jpg',\n",
        "             }\n"
      ],
      "execution_count": null,
      "outputs": [
        {
          "output_type": "stream",
          "text": [
            "[youtube] OI4p9FSDxy0: Downloading webpage\n",
            "[download] Destination: ./input_video/sample_video.mp4\n",
            "\u001b[K[download] 100% of 16.93MiB in 00:00\n"
          ],
          "name": "stdout"
        }
      ]
    },
    {
      "cell_type": "markdown",
      "metadata": {
        "id": "PopiN72dBlMe"
      },
      "source": [
        "# Part III - Executing the CRT (Part 1)\n",
        "------------------------------\n",
        "STEP 1: Set a tolerance threshold\n",
        "*   How liberal or strict do you want the face detection (Default and reconmended is .06)?\n",
        "\n",
        "STEP 2: Set the algorithm you want to use\n",
        "*   You have the choice of using either HOG or CNN\n",
        "\n",
        "STEP 3: Set a framerate\n",
        "*   The CRT will start at the 1st frame (#0 frame) and analyze every nth frame. For example, if set to 200, the CRT will code the #0 frame, #200 frame, #400 frame, etc.\n",
        "\n",
        "STEP 4: Set whether to show frames coded\n",
        "*   Set this as '''True''' if you want to see every frame analyzed (This is good for testing and troubleshooting short videos)\n",
        "*   Set this as '''False''' if you don't want to see every frame analyzed (This is good for analyzing a large sample of frames)\n",
        "\n",
        "NOTE 1: Make sure the name of the video file matches with the video reference\n",
        "\n",
        "NOTE 2: If there is an erorr, the most likely cause is that the CRT did not detect a face in one of the character images files\n",
        "\n",
        "\n",
        "\n",
        "\n",
        "\n",
        "\n",
        "\n"
      ]
    },
    {
      "cell_type": "code",
      "metadata": {
        "id": "fcM2ffXqO4by",
        "colab": {
          "base_uri": "https://localhost:8080/",
          "height": 298
        },
        "outputId": "52242d0f-1012-4aee-9270-7471ed23e4d9"
      },
      "source": [
        "# change to values between 0 and 1 \n",
        "# [values towards 0 are more strict, higher values more liberal (default = 0.6)]\n",
        "tolerance_threshold = 0.6\n",
        "\n",
        "# Chose type of face_recognition algorithm \n",
        "# [default:'hog', alternative: 'cnn' (slower, but more accurate, GPU advised)]\n",
        "model_to_use ='hog' \n",
        "\n",
        "# change to value you prefer \n",
        "# [values near 1 are more accurate, higher values will sample every n-th frame.]\n",
        "rate = 200 \n",
        "\n",
        "plot_output = False #set to True/False to show/suppress frame images.\n",
        "\n",
        "# Load video and check frames\n",
        "sampler          =  FrameSamplingFilter(every = rate)\n",
        "video_reference  =  './input_video/sample_video.mp4'\n",
        "frames           =  sampler.transform(video_reference)\n",
        "n_frames         =  frames.n_frames\n",
        "print('The current extraction will work on n = ' + str(frames.n_frames) + ' frames (with frame rate =' +str(rate) + ').')\n",
        "\n",
        "# Import Character Reference Images \n",
        "character_url    = list(characters.values())\n",
        "character_key    = list(characters)\n",
        "\n",
        "if not os.path.exists('character_images'):\n",
        "  os.mkdir('character_images')\n",
        "\n",
        "if not os.path.exists('unrecognized_images'):\n",
        "  os.mkdir('unrecognized_images')\n",
        "\n",
        "for current_character in range(len(characters)):\n",
        "       urllib.request.urlretrieve(character_url[current_character], \n",
        "                           './character_images/'+ character_key[current_character] +'.jpg')\n",
        "\n",
        "character_images    = [i for i in os.listdir('./character_images/') if i.endswith('.jpg')]\n",
        "character_names     = [f[:-4] for f in list(character_images)] \n",
        "\n",
        "n_character_images  = len(character_images) \n",
        "print('The CRT will identify the following characters: ')\n",
        "\n",
        "plt.figure( figsize = (18,4))\n",
        "for num, x in enumerate(character_images):\n",
        "    img = PIL.Image.open(os.path.join('./character_images/', x))\n",
        "    plt.subplot(1,n_character_images ,num+1)\n",
        "    plt.title(x.split('.')[0])\n",
        "    plt.axis('off')\n",
        "    plt.imshow(img) \n",
        "    sys.stdout.flush()\n",
        "\n",
        "known_faces = []\n",
        "for character in character_images:\n",
        "    known_character_image =  face_recognition.load_image_file('./character_images/' + character)\n",
        "    known_character_encoding = face_recognition.face_encodings(known_character_image)[0]\n",
        "    known_faces.append(known_character_encoding)"
      ],
      "execution_count": null,
      "outputs": [
        {
          "output_type": "stream",
          "text": [
            "The current extraction will work on n = 34 frames (with frame rate =200).\n",
            "The CRT will identify the following characters: \n"
          ],
          "name": "stdout"
        },
        {
          "output_type": "display_data",
          "data": {
            "image/png": "[encoded data removed]",
            "text/plain": [
              "<Figure size 1296x288 with 2 Axes>"
            ]
          },
          "metadata": {
            "tags": [],
            "needs_background": "light"
          }
        }
      ]
    },
    {
      "cell_type": "markdown",
      "metadata": {
        "id": "fxpKagyrLB2E"
      },
      "source": [
        "# Part IV - Executing the CRT (Part 2)\n",
        "------------------------------\n",
        "You do not need to change anything here. This will run the CRT to analyze each frame specified. "
      ]
    },
    {
      "cell_type": "code",
      "metadata": {
        "id": "UbMQGX0ac5qh",
        "colab": {
          "base_uri": "https://localhost:8080/",
          "height": 66,
          "referenced_widgets": [
            "55ef088daa4c4786bad4234d3bc73dd4",
            "c42e5ed001684525903044ed168e76e2",
            "2b19c82d2320475d923f87a80a767f01",
            "721799f363354e8caaa0676a979f8de2",
            "f615b656d5474be986a747dd89ddd8b5",
            "9f3481a18be04c9a93126e7345ecc959",
            "1ac0c51359844f209fd946e4dbcadffe",
            "f597f8fcce9e49979edabf44a9b76eb0"
          ]
        },
        "outputId": "3017e891-8ee2-4a61-aa0e-5457dad35c2e"
      },
      "source": [
        "unkonown_face_counter = 0\n",
        "res                   = []\n",
        "onsets                = []\n",
        "\n",
        "# main loop across frames\n",
        "for curr_frame_number in notebook.tqdm(range(n_frames)):\n",
        "    \n",
        "    # load the current frame as an image\n",
        "    curr_frame = frames.get_frame(curr_frame_number).video.get_frame(curr_frame_number).data\n",
        "    onsets.append(frames.get_frame(curr_frame_number).onset)\n",
        "\n",
        "    # if plot_output is set to true in the configuration, frames will be plotted\n",
        "    if plot_output:\n",
        "      fig, ax = plt.subplots(1)\n",
        "      ax.imshow(curr_frame)\n",
        "\n",
        "    # detect faces and plot them (for now) based on location info...\n",
        "    face_locations = face_recognition.face_locations(curr_frame, model= model_to_use) #'number_of_times_to_upsample=1', \"model='hog'\"\n",
        "    if len(face_locations)>0:\n",
        "        for curr_face in range(len(face_locations)):  \n",
        "            l1 = (face_locations[curr_face][2] - face_locations[curr_face][0])\n",
        "            l2 = (face_locations[curr_face][1] - face_locations[curr_face][3])\n",
        "            rect = patches.Rectangle((face_locations[curr_face][3], face_locations[curr_face][0]), l1,l2, edgecolor = 'r', facecolor='none')\n",
        "            if plot_output:\n",
        "              ax.add_patch(rect)\n",
        "    if plot_output:          \n",
        "      plt.axis('off')\n",
        "    \n",
        "    # for all detected faces, compute their encodings\n",
        "    face_encodings = face_recognition.face_encodings(curr_frame, face_locations)\n",
        "\n",
        "    if len(face_encodings)>0 :\n",
        "        results = []\n",
        "        for curr_encoding in range(len(face_encodings)):\n",
        "            # compare the recognized & encoded faces with the known faces' encodings....\n",
        "            results.append(face_recognition.compare_faces( known_faces, \n",
        "                                                      face_encodings[curr_encoding], \n",
        "                                                      tolerance = tolerance_threshold))\n",
        "        results = np.sum(results, axis=0, dtype = 'bool') \n",
        "        \n",
        "        # if character recognized, get its name\n",
        "        if (sum(results)>0):\n",
        "            characters_recognized = [ character_names[i] for i in np.where(results)[0][:]]\n",
        "            if plot_output:\n",
        "                plt.text( face_locations[curr_face][0], face_locations[curr_face][3], \n",
        "                           str(characters_recognized), color ='red' )\n",
        "                plt.show()\n",
        "                sys.stdout.flush()\n",
        "                \n",
        "        # if more faces are detected than recognized, unknown faces must be present\n",
        "        # save those to the unrecognized_images folder for human-in-the-loop decision about whether to include in a 2nd iteration \n",
        "        if (len(face_encodings) > sum(results)):\n",
        "            cc = curr_frame[    face_locations[0][0]:face_locations[0][2], \n",
        "                                face_locations[0][3]:face_locations[0][1],\n",
        "                                :]\n",
        "            if plot_output:\n",
        "              plt.imshow(cc)\n",
        "              plt.text(20,20, 'unrecognized face', color= 'red')\n",
        "              plt.axis('off')\n",
        "              plt.show()\n",
        "            \n",
        "            im = Image.fromarray(cc)\n",
        "            unkonown_face_counter += 1\n",
        "            filename_uf = './unrecognized_images/unknown_face_' + str(unkonown_face_counter) + '.jpg'\n",
        "            im.save(filename_uf)\n",
        "\n",
        "        res.append(results)\n",
        "    else:\n",
        "        res.append([False] * n_character_images)\n",
        "\n",
        "# creating result dataframe from list of results\n",
        "res = np.asarray(res)\n",
        "new_result = np.zeros((n_frames, n_character_images))\n",
        "for curr_line in range(n_frames):\n",
        "    new_result[curr_line,:] = np.asarray(res[curr_line])\n",
        "\n",
        "df = pd.DataFrame( data     = new_result,\n",
        "                    columns = character_names );\n",
        "\n",
        "df.insert(0, 'onset', onsets)\n",
        "\n",
        "df['date'] = pd.to_datetime(df['onset'], unit='s')\n",
        "df['time'] = df['date'].dt.strftime(\"%H:%M:%S\")\n",
        "df = df.drop('date', 1)\n"
      ],
      "execution_count": null,
      "outputs": [
        {
          "output_type": "display_data",
          "data": {
            "application/vnd.jupyter.widget-view+json": {
              "model_id": "55ef088daa4c4786bad4234d3bc73dd4",
              "version_minor": 0,
              "version_major": 2
            },
            "text/plain": [
              "HBox(children=(FloatProgress(value=0.0, max=34.0), HTML(value='')))"
            ]
          },
          "metadata": {
            "tags": []
          }
        },
        {
          "output_type": "stream",
          "text": [
            "\n"
          ],
          "name": "stdout"
        }
      ]
    },
    {
      "cell_type": "markdown",
      "metadata": {
        "id": "BMAnga1oBuiH"
      },
      "source": [
        "# Part V - Result Visualization and Create CSV-File\n",
        "--------------------------------\n",
        "\n",
        "This will create a CSV-File of your results and create a barcode visual of when each character appeared in the video."
      ]
    },
    {
      "cell_type": "code",
      "metadata": {
        "id": "SDoZqw3Oc9O8",
        "colab": {
          "base_uri": "https://localhost:8080/",
          "height": 295
        },
        "outputId": "c63e95b0-0f49-45fc-acaf-be453703634e"
      },
      "source": [
        "df.to_csv('../CRT_results_' + project_name + '.csv')\n",
        "\n",
        "fig, ax = plt.subplots(figsize = (8,4))\n",
        "ax.imshow(df[character_names].values.T, cmap = 'gray_r', aspect='auto', interpolation='nearest');\n",
        "ax.set_yticks(np.arange(n_character_images));\n",
        "ax.set_yticklabels(character_names);\n",
        "ax.set_title(\"Character Recognitions\");\n",
        "ax.set_xlabel(\"Frames/Time\");\n",
        "\n",
        "df.head()"
      ],
      "execution_count": null,
      "outputs": [
        {
          "output_type": "display_data",
          "data": {
            "image/png": "[encoded data removed]",
            "text/plain": [
              "<Figure size 576x288 with 1 Axes>"
            ]
          },
          "metadata": {
            "tags": [],
            "needs_background": "light"
          }
        }
      ]
    }
  ]
}